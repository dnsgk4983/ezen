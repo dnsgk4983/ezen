{
 "cells": [
  {
   "cell_type": "code",
   "execution_count": null,
   "metadata": {},
   "outputs": [],
   "source": [
    "# 함수 = 코드의 재사용\n",
    "# def로 정의하고, 인수와 반환값 유무로 유형을 나눈다.\n",
    "\n",
    "# def 함수이름(입력값1, 입력값2):\n",
    "#     return 내가 만든 결과값\n",
    "\n",
    "# 이 때, return 문은 반드시 존재해야하진 않는다."
   ]
  },
  {
   "cell_type": "code",
   "execution_count": 1,
   "metadata": {},
   "outputs": [
    {
     "name": "stdout",
     "output_type": "stream",
     "text": [
      "인수값이 없는 함수\n"
     ]
    }
   ],
   "source": [
    "# 1) 인수도 반환값도 없는 유형\n",
    "\n",
    "def userfunc1():\n",
    "    print('인수값이 없는 함수')\n",
    "\n",
    "# 함수는 정의해 놓기만 하면 아무일도 일어나지 않는다.\n",
    "# 함수 정의 후 반드시 아래처럼 호출해야한다.\n",
    "userfunc1()\n"
   ]
  },
  {
   "cell_type": "code",
   "execution_count": 2,
   "metadata": {},
   "outputs": [
    {
     "name": "stdout",
     "output_type": "stream",
     "text": [
      "결과값은 7\n"
     ]
    }
   ],
   "source": [
    "# 2) 인수가 있고 반환값이 없는 함수\n",
    "# 인수 값을 나타내는 변수는 어떤 기호가 와도 된다.\n",
    "# 한글 자음이나 모음이 와도 문제가 없다.\n",
    "def userfunc2(a, b):\n",
    "    z = a + b\n",
    "    print('결과값은', z)\n",
    "\n",
    "\n",
    "userfunc2(3, 4)"
   ]
  },
  {
   "cell_type": "code",
   "execution_count": 3,
   "metadata": {},
   "outputs": [
    {
     "name": "stdout",
     "output_type": "stream",
     "text": [
      "결과값은 7\n"
     ]
    },
    {
     "data": {
      "text/plain": [
       "7"
      ]
     },
     "execution_count": 3,
     "metadata": {},
     "output_type": "execute_result"
    }
   ],
   "source": [
    "# 3) 인수는 없지만 반환값이 있는 함수\n",
    "\n",
    "def userfunc3():\n",
    "    z = 4 + 3\n",
    "    print('결과값은', z)\n",
    "    return z\n",
    "\n",
    "userfunc3()"
   ]
  },
  {
   "cell_type": "code",
   "execution_count": 4,
   "metadata": {},
   "outputs": [
    {
     "name": "stdout",
     "output_type": "stream",
     "text": [
      "결과값은 14\n"
     ]
    },
    {
     "data": {
      "text/plain": [
       "14"
      ]
     },
     "execution_count": 4,
     "metadata": {},
     "output_type": "execute_result"
    }
   ],
   "source": [
    "# 4) 인수도 반환값도 있는 함수\n",
    "\n",
    "def userfunc4(a,b ):\n",
    "    z = a + b\n",
    "    print('결과값은', z)\n",
    "    return z\n",
    "\n",
    "userfunc4(6, 8)"
   ]
  },
  {
   "cell_type": "code",
   "execution_count": 9,
   "metadata": {},
   "outputs": [
    {
     "name": "stdout",
     "output_type": "stream",
     "text": [
      "-3\n"
     ]
    }
   ],
   "source": [
    "# 카지노 시뮬레이션\n",
    "# 적은 확률로 카지노가 우세 하다면 참가자는 도박을 할수록 돈을 잃는다.\n",
    "# 예) 참가자가 22/45 확률, \n",
    "# 카지노가 23/45 확률로 이기는 게임이 있다 가정하는 경우\n",
    "# 게임의 횟수인 n 이 증가할 때 참가자의 기대값을 구해보자\n",
    "import random\n",
    "def gamble(n):\n",
    "    # 게임의 승패를 리스트에 기록\n",
    "    result = []\n",
    "    # 게임을 n번 시행해서\n",
    "    for i in range(n):\n",
    "        # 1~45 중 22 이하는 참가자가 1을 갖고 다른 경우 1을 잃는다고 정함\n",
    "        r = random.randint(1, 45)\n",
    "        if r <= 22:\n",
    "            result.append(1)\n",
    "        else:\n",
    "            result.append(-1)\n",
    "\n",
    "    return result\n",
    "\n",
    "print(sum(gamble(1)))"
   ]
  },
  {
   "cell_type": "code",
   "execution_count": 10,
   "metadata": {},
   "outputs": [
    {
     "name": "stdout",
     "output_type": "stream",
     "text": [
      "('이순신', '명량', '파묘', '듄2')\n"
     ]
    }
   ],
   "source": [
    "# 함수의 가변인수\n",
    "# 하나의 인수로 여러 인풋값을 다룰 수 있는 인수\n",
    "# 이름을 입력값으로 받아서 출력하는 함수가 있는 경우\n",
    "\n",
    "def func1(*names):\n",
    "    print(names)\n",
    "\n",
    "func1(\"이순신\", \"명량\", \"파묘\", \"듄2\")"
   ]
  },
  {
   "cell_type": "code",
   "execution_count": 27,
   "metadata": {},
   "outputs": [
    {
     "data": {
      "text/plain": [
       "50.83"
      ]
     },
     "execution_count": 27,
     "metadata": {},
     "output_type": "execute_result"
    }
   ],
   "source": [
    "# quiz) 표준체중을 구하는 프로그램을 만드시오\n",
    "\n",
    "# *표준체중: 각 개인의 키에 적당한 체중\n",
    "    \n",
    "# (성별에 따른 공식)    \n",
    "# 남자: 키 * 키 * 22\n",
    "# 여자: 키 * 키 * 21\n",
    "\n",
    "# 조건1: 표준체중은 별도의 함수 내에서 계산\n",
    "#     *함수명: std_weight\n",
    "#     *전달값: 키(height), 성별(gender)\n",
    "\n",
    "# 조건2: 표준체중은 소수점 둘째자리 까지만 표시\n",
    "\n",
    "# (출력예제)\n",
    "# 키 175 남자 표준체중은 67.38 kg 입니다\n",
    "\n",
    "def std_weight(height, gender):\n",
    "    if gender == \"남자\":\n",
    "        # return \"키 %f %s 표중체중은 %d kg 입니다.\" % (height, gender, (height * height * 22))\n",
    "        return height ** 2 * 22\n",
    "\n",
    "    elif gender == \"여자\":\n",
    "        # return \"키 %f %s 표중체중은 %d kg 입니다.\" % (height, gender, (height * height * 21))\n",
    "        return height ** 2 * 21\n",
    "\n",
    "x = std_weight(1.52, \"남자\")\n",
    "round(x, 2)\n"
   ]
  },
  {
   "cell_type": "code",
   "execution_count": 42,
   "metadata": {},
   "outputs": [
    {
     "data": {
      "text/plain": [
       "'www.daum.com'"
      ]
     },
     "execution_count": 42,
     "metadata": {},
     "output_type": "execute_result"
    }
   ],
   "source": [
    "# 문자열 하나를 입력받아 인터넷 주소를 반환하는 make_url 함수를 정의하라.\n",
    "# 예) make_url(\"naver\")\n",
    "# www.naver.com\n",
    "\n",
    "def make_url(string):\n",
    "    # print('www.%s.com' % string)\n",
    "    return 'www.%s.com' % string\n",
    "make_url('daum')"
   ]
  },
  {
   "cell_type": "code",
   "execution_count": 51,
   "metadata": {},
   "outputs": [],
   "source": [
    "# 파일의 입출력\n",
    "# open 함수 우측의 쓰기모드는 크게 3가지가 있다.\n",
    "# 'w' = 파일 쓰기모드(처음부터 덮어쓰기)\n",
    "# 'a' = 파일 쓰기모드(이전 내용아래로 추가)\n",
    "# 'r' = 파일 읽기모드(파일 내용을 바꾸지 않는다)\n",
    "# 'w' 모드에서 파일이름 입력시 새 파일 생성됨\n",
    "f = open(\"새파일202403.txt\", 'w')\n",
    "# 뭔가를 쓰고 싶으면 write 함수를 이용하여 작성한다.\n",
    "# for 문을 이용해서 10개의 문장을 써내려갔음\n",
    "for i in range(1, 11):\n",
    "    f.write('안녕하세요, %d줄입니다\\n' % i)\n",
    "f.close()"
   ]
  },
  {
   "cell_type": "code",
   "execution_count": 52,
   "metadata": {},
   "outputs": [],
   "source": [
    "# 위 예제를 이용해서 11줄입니다 ~ 20줄입니다 문장을 추가해주세요.\n",
    "# 예) 안녕하세요, 11줄입니다.\n",
    "# 예) 안녕하세요, 12줄입니다.\n",
    "\n",
    "f = open(\"새파일202403.txt\", 'a')\n",
    "\n",
    "for j in range(11, 21):\n",
    "    f.write('안녕하세요, %d줄입니다\\n' % j)\n",
    "\n",
    "f.close()"
   ]
  },
  {
   "cell_type": "code",
   "execution_count": 3,
   "metadata": {},
   "outputs": [
    {
     "name": "stdout",
     "output_type": "stream",
     "text": [
      "3\n",
      "7\n",
      "2\n",
      "10\n"
     ]
    }
   ],
   "source": [
    "# 클래스에 대해 간단히 복습\n",
    "# n 개의 독립적인 계산이 필요하다면?\n",
    "# 기존의 함수로는 n개의 함수가 필요하다\n",
    "\n",
    "\n",
    "result1 = 0\n",
    "result2 = 0\n",
    "\n",
    "def adder1(num):\n",
    "    # 함수 안의 result1 변수는\n",
    "    # 함수바깥에서도 쓸 수 있도록 번역변수 처리함\n",
    "    global result1\n",
    "    result1 += num\n",
    "    return result1\n",
    "\n",
    "def adder2(num):\n",
    "    # 함수 안의 result2 변수는\n",
    "    # 함수바깥에서도 쓸 수 있도록 번역변수 처리함\n",
    "    global result2\n",
    "    result2 += num\n",
    "    return result2\n",
    "\n",
    "print(adder1(3))\n",
    "print(adder1(4))\n",
    "print(adder2(2))\n",
    "print(adder2(8))\n",
    "\n",
    "# 같은 기능을 하는 함수에 대한 설계도(클래스)를 만들고\n",
    "# 개별함수를 제품화(객체화) 한다면?\n"
   ]
  },
  {
   "cell_type": "code",
   "execution_count": 8,
   "metadata": {},
   "outputs": [
    {
     "name": "stdout",
     "output_type": "stream",
     "text": [
      "3 8 18\n",
      "2 9 9796\n"
     ]
    }
   ],
   "source": [
    "# 클래스는 객체들에 대한 설계도이다.\n",
    "# 객체란 성질과 동작을 갖는 프로그램 단위라고 이해하시면 됩니다.\n",
    "# 클래스 이름 지을 때 첫 글자를 대문자로 만들어서\n",
    "# 이게 클래스라고 알아보게 만듬 (국룰)\n",
    "class Calculator:\n",
    "    # __init__ 은 생성자로서 클래스 실행 시 자동으로 실행되는 함수이다.\n",
    "    def __init__(self):\n",
    "        self.result = 0\n",
    "    # 클래스 내부 함수입니다\n",
    "    def adder(self, num):\n",
    "        # 나 자신이 가진 결과에 인풋값 num을 더하라는 의미입니다.\n",
    "        self.result = self.result + num\n",
    "        return self.result\n",
    "    \n",
    "# Calculator 클래스(설계도)로 만든 cal1 객체(제품)를 만듭니다.\n",
    "cal1 = Calculator()\n",
    "cal2 = Calculator()\n",
    "# cal1이 Calculator 클래스 기반으로 만들어졌기 때문에\n",
    "# Calculator 소속 adder라는 함수를 사용할 수 있습니다.\n",
    "print(cal1.adder(3), cal1.adder(5), cal1.adder(10))\n",
    "print(cal2.adder(2), cal2.adder(7), cal2.adder(9787))"
   ]
  },
  {
   "cell_type": "code",
   "execution_count": 9,
   "metadata": {},
   "outputs": [
    {
     "data": {
      "text/plain": [
       "'\\n클래스 사용법\\n1. 클래스를 정의하고 __init__ 생성자로 초기 조건을 지정한다.\\n2. 클래스에 원하는 하위 함수로 원하는 기능을 구현한다.\\n3. 완성된 클래스로 객체를 생성하여 원하는 작업을 한다.\\n'"
      ]
     },
     "execution_count": 9,
     "metadata": {},
     "output_type": "execute_result"
    }
   ],
   "source": [
    "# 클래스로 만든 객체는 객체마다 고유한 성격을 가진다는 것이다.\n",
    "\n",
    "\"\"\"\n",
    "클래스 사용법\n",
    "1. 클래스를 정의하고 __init__ 생성자로 초기 조건을 지정한다.\n",
    "2. 클래스에 원하는 하위 함수로 원하는 기능을 구현한다.\n",
    "3. 완성된 클래스로 객체를 생성하여 원하는 작업을 한다.\n",
    "\"\"\""
   ]
  },
  {
   "cell_type": "code",
   "execution_count": 15,
   "metadata": {},
   "outputs": [
    {
     "name": "stdout",
     "output_type": "stream",
     "text": [
      "파란색 세단이 출발해서 200km로 달립니다.\n"
     ]
    }
   ],
   "source": [
    "# 자동차 클래스를 만들어서 모델, 색상, 속도에 대한 인풋을 받아 메세지 출력\n",
    "\n",
    "class Car:\n",
    "    # Car 클래스 실행되는 순간, model, color, speed 인풋값을 요구한다.\n",
    "    def __init__(self, model1, color1, speed1):\n",
    "        self.model = model1\n",
    "        self.color = color1\n",
    "        self.speed = speed1\n",
    "    # 클래스 내 하위 함수로 원하는 기능을 구현한다.\n",
    "    # 주의: 함수에 self라고 반드시 써줘야 한다. 안써주면 클래스와의 관계단절\n",
    "    def start(self):\n",
    "        print(\"{} {}이 출발해서 {}km로 달립니다.\".format(self.color, self.model, self.speed))\n",
    "\n",
    "car1 = Car(\"세단\", \"파란색\", 200)\n",
    "car1.start()\n"
   ]
  },
  {
   "cell_type": "code",
   "execution_count": 17,
   "metadata": {},
   "outputs": [
    {
     "name": "stdout",
     "output_type": "stream",
     "text": [
      "파란색 제네시스이 출발해서 200km로 달립니다.\n"
     ]
    }
   ],
   "source": [
    "# 생성자가 없다면 어떻게 되는가?\n",
    "\n",
    "class Car:\n",
    "    def names(self, model1, color1, speed1):\n",
    "        self.model = model1\n",
    "        self.color = color1\n",
    "        self.speed = speed1\n",
    "    # 클래스 내 하위 함수로 원하는 기능을 구현한다.\n",
    "    # 주의: 함수에 self라고 반드시 써줘야 한다. 안써주면 클래스와의 관계단절\n",
    "    def start(self):\n",
    "        print(\"{} {}이 출발해서 {}km로 달립니다.\".format(self.color, self.model, self.speed))\n",
    "\n",
    "# 생성자가 없는 경우, 클래스 자체만을 불러서 객체를 만들어야 한다.\n",
    "# 객체를 만들고 나서 names라는 하위함수로 인풋값을 넣고 실행한다.\n",
    "# 즉, 자ㄷ오으로 인풋을 지정하는 생성자가 없기때문에 수동으로 인풋함수 실행이 필요\n",
    "car1 = Car()\n",
    "car1.names(\"제네시스\", \"파란색\", 200)\n",
    "car1.start()\n"
   ]
  },
  {
   "cell_type": "code",
   "execution_count": 19,
   "metadata": {},
   "outputs": [
    {
     "ename": "NameError",
     "evalue": "name 'Knight' is not defined",
     "output_type": "error",
     "traceback": [
      "\u001b[1;31m---------------------------------------------------------------------------\u001b[0m",
      "\u001b[1;31mNameError\u001b[0m                                 Traceback (most recent call last)",
      "Cell \u001b[1;32mIn[19], line 5\u001b[0m\n\u001b[0;32m      1\u001b[0m \u001b[38;5;66;03m# 게임 캐릭터 클래스 만들기\u001b[39;00m\n\u001b[0;32m      2\u001b[0m \n\u001b[0;32m      3\u001b[0m \u001b[38;5;66;03m# 다음 소스 코드에서 클래스를 작성하여 게임 캐릭터의 능력치와 '베기'가 출력되게 만드세요.\u001b[39;00m\n\u001b[1;32m----> 5\u001b[0m x \u001b[38;5;241m=\u001b[39m \u001b[43mKnight\u001b[49m(health\u001b[38;5;241m=\u001b[39m\u001b[38;5;241m542.4\u001b[39m, mana\u001b[38;5;241m=\u001b[39m\u001b[38;5;241m210.3\u001b[39m, armor\u001b[38;5;241m=\u001b[39m\u001b[38;5;241m38\u001b[39m)\n\u001b[0;32m      6\u001b[0m \u001b[38;5;28mprint\u001b[39m(x\u001b[38;5;241m.\u001b[39mhealth, x\u001b[38;5;241m.\u001b[39mmana, x\u001b[38;5;241m.\u001b[39marmor)\n\u001b[0;32m      7\u001b[0m x\u001b[38;5;241m.\u001b[39mslash()\n",
      "\u001b[1;31mNameError\u001b[0m: name 'Knight' is not defined"
     ]
    }
   ],
   "source": [
    "# 게임 캐릭터 클래스 만들기\n",
    "\n",
    "# 다음 소스 코드에서 클래스를 작성하여 게임 캐릭터의 능력치와 '베기'가 출력되게 만드세요.\n",
    "\n",
    "x = Knight(health=542.4, mana=210.3, armor=38)\n",
    "print(x.health, x.mana, x.armor)\n",
    "x.slash()\n",
    "\n",
    "\"\"\"  결과\n",
    "542.4 210.3 38\n",
    "베기\n",
    "\"\"\"\n"
   ]
  },
  {
   "cell_type": "code",
   "execution_count": 26,
   "metadata": {},
   "outputs": [
    {
     "name": "stdout",
     "output_type": "stream",
     "text": [
      "542.4 210.3 38\n",
      "베기\n"
     ]
    }
   ],
   "source": [
    "class Knight:\n",
    "    def __init__(self, health, mana, armor):\n",
    "        self.health = health\n",
    "        self.mana = mana\n",
    "        self.armor = armor\n",
    "\n",
    "    def slash(self):\n",
    "        # print(\"결과\")\n",
    "        # print(round(self.health, 1), round(self.mana, 1), round(self.armor))\n",
    "        print(\"베기\")\n",
    "\n",
    "x = Knight(health = 542.4, mana = 210.3, armor = 38)\n",
    "print(x.health, x.mana, x.armor)\n",
    "x.slash()"
   ]
  },
  {
   "cell_type": "code",
   "execution_count": 27,
   "metadata": {},
   "outputs": [],
   "source": [
    "# 객체의 독립성은 id 함수를 이용해서 메모리 주소가 다른 것으로\n",
    "# 증명 할 수 있다."
   ]
  },
  {
   "cell_type": "code",
   "execution_count": null,
   "metadata": {},
   "outputs": [],
   "source": [
    "# 클래스 상속 예시\n",
    "# 상속은 자식 클래스가 부모클래스의 모든 기능을 가져온다\n",
    "# 부모-자식 클래스에서 함수 이름이 같으면 자식 클래스 함수 이름이 우선"
   ]
  },
  {
   "cell_type": "code",
   "execution_count": 33,
   "metadata": {},
   "outputs": [
    {
     "name": "stdout",
     "output_type": "stream",
     "text": [
      "16\n"
     ]
    }
   ],
   "source": [
    "class Fourcal:\n",
    "    # 클래스 내부 first, second 변수는 생성자를 통해서 one, two변수로 \n",
    "    # 해당 변수의 값을 받겠다는 의미입니다.\n",
    "    def __init__(self, one, two):\n",
    "        self.first = one\n",
    "        self.second = two\n",
    "    # 클래스 내부 변수 받아와서 두 수의 곱셈을 합니다\n",
    "    def mul(self):\n",
    "        print(\"자식클래스에 이 함수 안만들면 지금메세지 보임 ^^\")\n",
    "\n",
    "# 아무 기능이 없는 자식 클래스 이다 (괄호 안에 부모클래스 이름 필수)\n",
    "class Morefour(Fourcal):\n",
    "    # def mul(self):\n",
    "    #     result = self.first * self.second * 2\n",
    "    #     return result\n",
    "    pass\n",
    "\n",
    "# 원래 이건 말이 안됨 (Morefour 클래스는 아무런 기능이 없다) \n",
    "# 부모클래스인 Fourcal을 상속 받아서 부모의 생성자 기능을 사용중\n",
    "a = Morefour(4,2)\n",
    "# 부모클래스의 하위 함수를 사용할 수 있음\n",
    "print(a.mul())\n",
    "\n",
    "# 부모클래스와 자식 클래스가 같은 이름의 하위 함수가 있다면\n",
    "# 자식클래스의 함수가 우선권이 있는것을 확인 가능"
   ]
  },
  {
   "cell_type": "code",
   "execution_count": null,
   "metadata": {},
   "outputs": [],
   "source": [
    "# 개발 하고자 하는 자식클래스의 하위 함수가 제대로 개발되지 않을 경우,\n",
    "# 부모 클래스의 동일 함수 이름을 통해 에러메세지를 띄워서\n",
    "# 자식클래스에서 원하는 함수 개발 여부를 확인하도록\n",
    "# 개발 프로세스를 만들 수 있다."
   ]
  },
  {
   "cell_type": "code",
   "execution_count": null,
   "metadata": {},
   "outputs": [],
   "source": [
    "Stock 클래스의 객체가 생성될 때\n",
    "종목명과 종목코드를 입력 받을 수 있도록 생성자를 정의해보세요."
   ]
  },
  {
   "cell_type": "code",
   "execution_count": null,
   "metadata": {},
   "outputs": [],
   "source": [
    "# Stock 이란 클래스를 만들어서 삼성이란 객체를 아래처럼 만들어보세요\n",
    "삼성 = Stock(\"삼성전자\", \"005930\")"
   ]
  },
  {
   "cell_type": "code",
   "execution_count": 54,
   "metadata": {},
   "outputs": [
    {
     "name": "stdout",
     "output_type": "stream",
     "text": [
      "삼성전자 \n",
      " 005930\n"
     ]
    }
   ],
   "source": [
    "class Stock:\n",
    "    def __init__(self, name, code):\n",
    "        self.name = name\n",
    "        self.code = code\n",
    "\n",
    "    # def set_name(self):\n",
    "    #     print(self.name)\n",
    "    #     print(self.code)\n",
    "\n",
    "\n",
    "삼성 = Stock(\"삼성전자\", \"005930\")\n",
    "print(삼성.name, \"\\n\", 삼성.code)\n",
    "\n",
    "# 클래스 내부의 변수는 객체.변수이름으로 호출 할 수 있다.\n"
   ]
  },
  {
   "cell_type": "code",
   "execution_count": 64,
   "metadata": {},
   "outputs": [],
   "source": [
    "# 당신의 회사는 매주 1회 작성해야하는 보고서가 있습니다.\n",
    "# 보고서는 항상 아래와 같은 형태로 출력되어야 합니다.\n",
    "\n",
    "# x주차 주간보고\n",
    "# 부서\n",
    "# 이름\n",
    "# 업무요약\n",
    "\n",
    "# 1주차부터 50주차 까지의 보고서파일을 만드는 프로그램을 작성한다\n",
    "# 조건: 파일명은 1주차.txt 2주차.txt...와 같이 만듭니다.\n",
    "\n",
    "for i in range(1, 51):\n",
    "    # 파일 오픈을 for문 소속 + 이름 변수처리\n",
    "    # f = open('%d주차.txt' % i, 'w')\n",
    "    report_file = open(str(i)+\"주차.txt\", \"w\")\n",
    "    # report_file.write(\"%d주차 주간보고\\n부서:웹프론트앤드개발팀\\n이름:황운하\\n업무요약:파이썬테스트\" % i)\n",
    "    report_file.write(\"{}주차 주간보고\\n\".format(i))\n",
    "    report_file.write(\"부서\\n\")\n",
    "    report_file.write(\"이름\\n\")\n",
    "    report_file.write(\"업무요약\\n\")\n",
    "    # 파일 열었으면 닫아야 한다\n",
    "    report_file.close()"
   ]
  },
  {
   "cell_type": "code",
   "execution_count": 65,
   "metadata": {},
   "outputs": [
    {
     "data": {
      "text/plain": [
       "'\\n예외처리 : run time error 발생 시 처리\\n- file/DB 입출력 시 사용\\n\\ntry :\\n    예외발생 코드\\nexcept 예외처리클래스 as 변수:\\n    예외처리 코드\\nfinally:\\n    항상 실행 코드\\n'"
      ]
     },
     "execution_count": 65,
     "metadata": {},
     "output_type": "execute_result"
    }
   ],
   "source": [
    "'''\n",
    "예외처리 : run time error 발생 시 처리\n",
    "- file/DB 입출력 시 사용\n",
    "\n",
    "try :\n",
    "    예외발생 코드\n",
    "except 예외처리클래스 as 변수:\n",
    "    예외처리 코드\n",
    "finally:\n",
    "    항상 실행 코드\n",
    "'''\n",
    "\n",
    "# 일부 데이터의 오류가 프로그램 실행을 가로막을 이유가 없는 경우\n",
    "# 혹은 개발중에 내부 테스트 과정에서 사전에 알고 있는 오류는 건너뛰고자 할 때\n"
   ]
  },
  {
   "cell_type": "code",
   "execution_count": 68,
   "metadata": {},
   "outputs": [
    {
     "name": "stdout",
     "output_type": "stream",
     "text": [
      "프로그램 시작 !!!\n",
      "10.000000 가 적당한 비용이라 생각합니다.\n",
      "30.000000 가 적당한 비용이라 생각합니다.\n",
      "25.200000 가 적당한 비용이라 생각합니다.\n"
     ]
    },
    {
     "ename": "TypeError",
     "evalue": "must be real number, not str",
     "output_type": "error",
     "traceback": [
      "\u001b[1;31m---------------------------------------------------------------------------\u001b[0m",
      "\u001b[1;31mTypeError\u001b[0m                                 Traceback (most recent call last)",
      "Cell \u001b[1;32mIn[68], line 11\u001b[0m\n\u001b[0;32m      8\u001b[0m x \u001b[38;5;241m=\u001b[39m [\u001b[38;5;241m10\u001b[39m, \u001b[38;5;241m30\u001b[39m, \u001b[38;5;241m25.2\u001b[39m, \u001b[38;5;124m'\u001b[39m\u001b[38;5;124mnum\u001b[39m\u001b[38;5;124m'\u001b[39m, \u001b[38;5;241m14\u001b[39m, \u001b[38;5;241m51\u001b[39m]\n\u001b[0;32m     10\u001b[0m \u001b[38;5;28;01mfor\u001b[39;00m i \u001b[38;5;129;01min\u001b[39;00m x:\n\u001b[1;32m---> 11\u001b[0m     \u001b[38;5;28mprint\u001b[39m(\u001b[38;5;124;43m\"\u001b[39;49m\u001b[38;5;132;43;01m%f\u001b[39;49;00m\u001b[38;5;124;43m 가 적당한 비용이라 생각합니다.\u001b[39;49m\u001b[38;5;124;43m\"\u001b[39;49m\u001b[43m \u001b[49m\u001b[38;5;241;43m%\u001b[39;49m\u001b[43m \u001b[49m\u001b[43mi\u001b[49m)\n",
      "\u001b[1;31mTypeError\u001b[0m: must be real number, not str"
     ]
    }
   ],
   "source": [
    "\"\"\"\n",
    "예외처리의 예시\n",
    "설문조사 데이터에 일부 오류가 있는 경우\n",
    "\"\"\"\n",
    "\n",
    "# (1) 예외 발생 코드\n",
    "print('프로그램 시작 !!!')\n",
    "x = [10, 30, 25.2, 'num', 14, 51]\n",
    "\n",
    "# 데이터 타입의 문제로 프로그램이 멈춰선다\n",
    "for i in x:\n",
    "    print(\"%f 가 적당한 비용이라 생각합니다.\" % i)"
   ]
  },
  {
   "cell_type": "code",
   "execution_count": 71,
   "metadata": {},
   "outputs": [
    {
     "name": "stdout",
     "output_type": "stream",
     "text": [
      "프로그램 시작 !!!\n",
      "10.000000 가 적당한 비용이라 생각합니다.\n",
      "데이터 출력 끝\n",
      "30.000000 가 적당한 비용이라 생각합니다.\n",
      "데이터 출력 끝\n",
      "25.200000 가 적당한 비용이라 생각합니다.\n",
      "데이터 출력 끝\n",
      "그거는 숫자 아님num\n",
      "데이터 출력 끝\n",
      "14.000000 가 적당한 비용이라 생각합니다.\n",
      "데이터 출력 끝\n",
      "51.000000 가 적당한 비용이라 생각합니다.\n",
      "데이터 출력 끝\n"
     ]
    }
   ],
   "source": [
    "# (2) 예외 처리 코드\n",
    "print('프로그램 시작 !!!')\n",
    "x = [10, 30, 25.2, 'num', 14, 51]\n",
    "for i in x:\n",
    "    try: \n",
    "        print(\"%f 가 적당한 비용이라 생각합니다.\" % i)\n",
    "    except:\n",
    "        print(\"그거는 숫자 아님\" + str(i))\n",
    "    finally:\n",
    "        print(\"데이터 출력 끝\")"
   ]
  },
  {
   "cell_type": "code",
   "execution_count": 78,
   "metadata": {},
   "outputs": [
    {
     "name": "stdout",
     "output_type": "stream",
     "text": [
      "\n",
      "유형별 예외처리\n",
      "오류정보 [Errno 2] No such file or directory: 'c:\\\\test.txt'\n"
     ]
    }
   ],
   "source": [
    "# 오류의 유형별 예외처리\n",
    "print('\\n유형별 예외처리')\n",
    "try:\n",
    "    # 숫자를 0으로 나눠서 무한숫자 나옴\n",
    "    div = 1000 / 0 # 이 부분을 주석하면 FileNotFoundError 내용확인이 가능하다.\n",
    "    # 없는 파일을 부르려고 함\n",
    "    f = open('c:\\\\test.txt')\n",
    "    # 0으로 나누려 할 때 오류처리\n",
    "except Exception as e:\n",
    "    print(\"오류정보\", e)\n",
    "    # 없는 파일을 불러내려 할 때 오류처리\n",
    "except FileNotFoundError as e:\n",
    "    print(\"오류정보\", e)"
   ]
  },
  {
   "cell_type": "code",
   "execution_count": 79,
   "metadata": {},
   "outputs": [
    {
     "name": "stdout",
     "output_type": "stream",
     "text": [
      "10.31\n",
      "0\n",
      "8.0\n"
     ]
    }
   ],
   "source": [
    "per = [\"10.31\", \"\", \"8.00\"]\n",
    "\n",
    "# for i in per:\n",
    "#   print(float(i))\n",
    "# 에러 났을 때 처리법도 명시할 수 있다.\n",
    "\n",
    "for i in per:\n",
    "    try:\n",
    "        print(float(i))\n",
    "    except:\n",
    "        print(0)"
   ]
  },
  {
   "cell_type": "code",
   "execution_count": null,
   "metadata": {},
   "outputs": [],
   "source": []
  },
  {
   "cell_type": "code",
   "execution_count": null,
   "metadata": {},
   "outputs": [],
   "source": []
  }
 ],
 "metadata": {
  "kernelspec": {
   "display_name": "Python 3",
   "language": "python",
   "name": "python3"
  },
  "language_info": {
   "codemirror_mode": {
    "name": "ipython",
    "version": 3
   },
   "file_extension": ".py",
   "mimetype": "text/x-python",
   "name": "python",
   "nbconvert_exporter": "python",
   "pygments_lexer": "ipython3",
   "version": "3.12.0"
  }
 },
 "nbformat": 4,
 "nbformat_minor": 2
}

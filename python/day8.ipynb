{
 "cells": [
  {
   "cell_type": "code",
   "execution_count": 25,
   "metadata": {},
   "outputs": [
    {
     "name": "stdout",
     "output_type": "stream",
     "text": [
      "오프라인 스터디 모임 날짜는 매월 8일로 선정되었습니다.\n"
     ]
    }
   ],
   "source": [
    "# quiz) 당신은 최근 코딩 스터디 모임을 새로 만들었습니다.\n",
    "# 월 4회 스터디를 하는데 3번은 온라인으로 1번은 오프라인으로 하기로 했습니다.\n",
    "# 아래 조건에 맞는 오프라인 모임날짜를 정해주는 프로그램을 작성하시오\n",
    "\n",
    "# 조건1: 랜덤으로 날짜뽑기\n",
    "# 조건2: 월별 날짜가 다름을 감안하여 최소28일 이내로 정함\n",
    "# 조건3: 매월 1~3일은 스터디준비를 해야하므로 제외\n",
    "    \n",
    "# 출력 예제:\n",
    "# 오프라인 스터디 모임 날짜는 매월 x일로 선정되었습니다.\n",
    "\n",
    "from random import *\n",
    "\n",
    "date = randint(4, 28)\n",
    "\n",
    "print(\"오프라인 스터디 모임 날짜는 매월 %d일로 선정되었습니다.\" % date)"
   ]
  },
  {
   "cell_type": "code",
   "execution_count": 56,
   "metadata": {},
   "outputs": [
    {
     "name": "stdout",
     "output_type": "stream",
     "text": [
      "nav51!\n"
     ]
    }
   ],
   "source": [
    "# quiz) 사이트별로 비밀번호를 만들어 주는 프로그램을 작성하시오\n",
    "\n",
    "# 예) http://naver.com\n",
    "# 조건1: http:// 부분 제외 --> naver.com\n",
    "# 조건2: 점 이후 부분 제외 --> naver\n",
    "# 조건3: 남은 글자 중 처음 세자리 + 글자 개수 + 글자 내 'e' 개수 + \"!\"로 비번 만들기\n",
    "#             nav                   5                   1           !\n",
    "# 예) 생성된 비번: nav51!\n",
    "\n",
    "url = \"http://naver.com\"\n",
    "# replace (교체할 내용, 교체하고 싶은 내용)\n",
    "# 문제 요구대로 replace함수를 통해서 \"http://\" 앞부분 삭제\n",
    "my_str = url.replace(\"http://\", \"\")\n",
    "\n",
    "# url = url[7:]\n",
    "# 앞 다섯글자만 포함하고 싶다.\n",
    "my_str = my_str[:5]\n",
    "# 첫 세글자를 포함하고, 전체 다섯글자를 len 함수로 세었다.\n",
    "password = my_str[:3] + str(len(my_str)) + str(my_str.count(\"e\")) + \"!\"\n",
    "print(password)"
   ]
  }
 ],
 "metadata": {
  "kernelspec": {
   "display_name": "Python 3",
   "language": "python",
   "name": "python3"
  },
  "language_info": {
   "codemirror_mode": {
    "name": "ipython",
    "version": 3
   },
   "file_extension": ".py",
   "mimetype": "text/x-python",
   "name": "python",
   "nbconvert_exporter": "python",
   "pygments_lexer": "ipython3",
   "version": "3.12.0"
  }
 },
 "nbformat": 4,
 "nbformat_minor": 2
}

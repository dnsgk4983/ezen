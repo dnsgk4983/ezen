{
 "cells": [
  {
   "cell_type": "code",
   "execution_count": 25,
   "metadata": {},
   "outputs": [
    {
     "name": "stdout",
     "output_type": "stream",
     "text": [
      "-- 당첨자발표 -- \n",
      " 치킨 당첨자 : 7 \n",
      " 커피당첨자 : 4 5 2 \n",
      " -- 축하합니다.\n"
     ]
    }
   ],
   "source": [
    "# quiz) 학교에서 파이썬 코딩대회를 주최합니다.\n",
    "# 참석률을 높이기 위해 댓글 이벤트를 진행하기로 했습니다.\n",
    "# 댓글 작성자 중에 추첨을 통해 1명은 치킨 3명은 커피쿠폰을 받게 됩니다.\n",
    "# 추첨프로그램을 작성해 주세요\n",
    "\n",
    "# 조건1: 편의상 댓글은 20명이 작성하였고 아이디는 1~20이라 가정\n",
    "# 조건2 : 댓글 내용과 상관없이 무작위로 추첨하되 중복불가\n",
    "# 조건3  :  random 모듈의 shuffle과 sample을 활용\n",
    "\n",
    "# (출력예제)\n",
    "# -- 당첨자 발표 --\n",
    "# 치킨 당첨자 : 1\n",
    "# 커피 당첨자 : [2,3,4]\n",
    "# -- 축하합니다.\n",
    "\n",
    "from random import *\n",
    "\n",
    "# 1. 20명 데이터 준비 -> range 함수로 수의 범위를 만들고 나서 list로 감싼다\n",
    "user = list(range(1, 21))\n",
    "# 2. shuffle 함수로 순서를 무작위로 섞는다.\n",
    "# 2-1. 무작위로 순서를 섞을 때 shuffle이라는 함수가 있습니다.\n",
    "shuffle(user)\n",
    "\n",
    "# 3. 인덱스를 활용하여 첫당첨자 & 3명의 당첨자를 선택하여 출력\n",
    "print(\"-- 당첨자발표 -- \\n 치킨 당첨자 : %d \\n 커피당첨자 : %d %d %d \\n -- 축하합니다.\" % (user[0], user[1], user[2], user[3]))"
   ]
  },
  {
   "cell_type": "code",
   "execution_count": 34,
   "metadata": {},
   "outputs": [
    {
     "name": "stdout",
     "output_type": "stream",
     "text": [
      "1번, 책을 읽으세요\n",
      "3번, 책을 읽으세요\n",
      "4번, 책을 읽으세요\n",
      "6번, 책을 읽으세요\n",
      "7번, 책을 읽으세요\n",
      "8번, 책을 읽으세요\n",
      "9번, 책을 읽으세요\n",
      "10번, 책을 읽으세요\n"
     ]
    }
   ],
   "source": [
    "# 1~10번 학생 중 결석한 학생을 제외하고\n",
    "# (결석자는 2, 5번) 아래의 메세지를 출력해 주세요.\n",
    "\n",
    "# for i in range(1, 11):\n",
    "#     if i == 2 or i == 5:\n",
    "#         i = i\n",
    "#     else:\n",
    "#         print(\"%d 번, 책을 읽으세요.\" % i)\n",
    "\n",
    "# for student in range(1, 11):\n",
    "#     if student == 2 or student == 5:\n",
    "#         continue\n",
    "#     else:\n",
    "#         print(\"{} 번, 책을 읽으세요.\".format(student))\n",
    "\n",
    "# 별해: 빠져야 하는 학생 데이터셋을 따로 만들어서\n",
    "# 조건이 데이터셋 안에 있을 때 continue문 사용\n",
    "absent = [2, 5]\n",
    "\n",
    "for student in range(1, 11):\n",
    "    if student in absent:\n",
    "        continue\n",
    "    print(\"{}번, 책을 읽으세요\".format(student))"
   ]
  },
  {
   "cell_type": "code",
   "execution_count": 37,
   "metadata": {},
   "outputs": [
    {
     "name": "stdout",
     "output_type": "stream",
     "text": [
      "1번, 책을 읽으세요\n",
      "3번, 책을 읽으세요\n",
      "4번, 책을 읽으세요\n",
      "6번, 책을 읽으세요\n",
      "7번 학생은 책을 안가져왔군\n",
      "8번, 책을 읽으세요\n",
      "9번, 책을 읽으세요\n",
      "10번, 책을 읽으세요\n"
     ]
    }
   ],
   "source": [
    "# 아래 코드에 내용을 추가해서 1~10번 학생 중 결석한 학생을 제외하고\n",
    "# (결석자는 2, 5번) 아래의 메세지를 출력해 주세요.\n",
    "# 7번 학생 차례에서는\n",
    "# \"7번 학생은 책을 안가져왔군\" 이렇게 출력 되도록 해주세요.\n",
    "# 또다른 조건의 추가 = elif의 사용을 묻는 문제였음.\n",
    "absent = [2, 5]\n",
    "nobook = [7]\n",
    "for student in range(1, 11):\n",
    "    if student in absent:\n",
    "        continue\n",
    "    elif student in nobook:\n",
    "        print(\"{}번 학생은 책을 안가져왔군\".format(student))\n",
    "        continue\n",
    "    print(\"{}번, 책을 읽으세요\".format(student))"
   ]
  },
  {
   "cell_type": "code",
   "execution_count": 49,
   "metadata": {},
   "outputs": [
    {
     "name": "stdout",
     "output_type": "stream",
     "text": [
      "[] 1번째 손님 (소요시간 : 17분)\n",
      "[] 2번째 손님 (소요시간 : 29분)\n",
      "[] 3번째 손님 (소요시간 : 38분)\n",
      "[] 4번째 손님 (소요시간 : 23분)\n",
      "[] 5번째 손님 (소요시간 : 28분)\n",
      "[O] 6번째 손님 (소요시간 : 11분)\n",
      "[] 7번째 손님 (소요시간 : 25분)\n",
      "[O] 8번째 손님 (소요시간 : 6분)\n",
      "[O] 9번째 손님 (소요시간 : 8분)\n",
      "[O] 10번째 손님 (소요시간 : 11분)\n",
      "[O] 11번째 손님 (소요시간 : 15분)\n",
      "[O] 12번째 손님 (소요시간 : 13분)\n",
      "[] 13번째 손님 (소요시간 : 47분)\n",
      "[] 14번째 손님 (소요시간 : 39분)\n",
      "[O] 15번째 손님 (소요시간 : 7분)\n",
      "[O] 16번째 손님 (소요시간 : 14분)\n",
      "[O] 17번째 손님 (소요시간 : 7분)\n",
      "[] 18번째 손님 (소요시간 : 28분)\n",
      "[] 19번째 손님 (소요시간 : 50분)\n",
      "[] 20번째 손님 (소요시간 : 21분)\n",
      "[] 21번째 손님 (소요시간 : 19분)\n",
      "[] 22번째 손님 (소요시간 : 39분)\n",
      "[] 23번째 손님 (소요시간 : 16분)\n",
      "[] 24번째 손님 (소요시간 : 18분)\n",
      "[] 25번째 손님 (소요시간 : 24분)\n",
      "[] 26번째 손님 (소요시간 : 22분)\n",
      "[] 27번째 손님 (소요시간 : 32분)\n",
      "[] 28번째 손님 (소요시간 : 42분)\n",
      "[] 29번째 손님 (소요시간 : 46분)\n",
      "[] 30번째 손님 (소요시간 : 17분)\n",
      "[O] 31번째 손님 (소요시간 : 6분)\n",
      "[] 32번째 손님 (소요시간 : 44분)\n",
      "[] 33번째 손님 (소요시간 : 51분)\n",
      "[] 34번째 손님 (소요시간 : 36분)\n",
      "[] 35번째 손님 (소요시간 : 36분)\n",
      "[] 36번째 손님 (소요시간 : 28분)\n",
      "[] 37번째 손님 (소요시간 : 23분)\n",
      "[] 38번째 손님 (소요시간 : 20분)\n",
      "[] 39번째 손님 (소요시간 : 27분)\n",
      "[] 40번째 손님 (소요시간 : 36분)\n",
      "[] 41번째 손님 (소요시간 : 47분)\n",
      "[] 42번째 손님 (소요시간 : 38분)\n",
      "[O] 43번째 손님 (소요시간 : 9분)\n",
      "[] 44번째 손님 (소요시간 : 38분)\n",
      "[] 45번째 손님 (소요시간 : 47분)\n",
      "[] 46번째 손님 (소요시간 : 29분)\n",
      "[] 47번째 손님 (소요시간 : 30분)\n",
      "[] 48번째 손님 (소요시간 : 51분)\n",
      "[O] 49번째 손님 (소요시간 : 5분)\n",
      "[] 50번째 손님 (소요시간 : 45분)\n",
      "총 탑승 승객 : 12\n"
     ]
    }
   ],
   "source": [
    "# quiz) 당신은 카카오 서비스를 이용하는 택시기사입니다.\n",
    "# 50명의 승객과 매칭기회가 있을 때, 총 탑승 승객수를 구하는 프로그램을 작성하시오.\n",
    "\n",
    "# 조건1: 승객별 운행 소요시간은 5~50분 사이의 난수로 정해집니다.\n",
    "# 조건2: 당신은 소요시간 5~15분 사이의 승객만 매칭해야 합니다.\n",
    "\n",
    "# (출력문 예제)\n",
    "# [0] 1번째 손님 (소요시간 : 15분)\n",
    "# [] 2번째 손님 (소요시간 : 50분)\n",
    "# [0] 3번째 손님 (소요시간 : 5분)\n",
    "\n",
    "# 총 탑승 승객 : 2분\n",
    "\n",
    "# 힌트 : 50명의 승객에 대해 각각의 무작위 탑승시간을 부여해야 한다.\n",
    "# 즉, 바깥 for문에서 50명의 승객을 접근하고, 탑승시간을 무작위로 받은 승객에\n",
    "# if절로 조건문을 만들어서 5~15분 사이 승객인지 아닌지 결정해야한다.\n",
    "\n",
    "from random import *\n",
    "\n",
    "result = 0\n",
    "\n",
    "# for문으로 개별 승객에 접근해서 승객별 탑승시간을 5~50분사이로 무작위 배정받습니다.\n",
    "# 주의할 점은 총 탑승객을 구해야 하므로 탑승객에 대한 변수를 선언하고 카운트 해야함\n",
    "for i in range(1, 51):\n",
    "    time = randint(5, 51)\n",
    "    if time >= 5 and time < 16:\n",
    "        print(\"[O] %d번째 손님 (소요시간 : %d분)\" % (i, time))\n",
    "        result += 1\n",
    "    else:\n",
    "        print(\"[] %d번째 손님 (소요시간 : %d분)\" % (i, time))\n",
    "\n",
    "print(\"총 탑승 승객 : %d\" % result)"
   ]
  },
  {
   "cell_type": "code",
   "execution_count": 55,
   "metadata": {},
   "outputs": [
    {
     "name": "stdout",
     "output_type": "stream",
     "text": [
      "10 + 20 = 30\n",
      "10 + 20 = 30\n",
      "10 + 20 = 30\n",
      "10 + 20 = 30\n",
      "10 + 20 = 30\n"
     ]
    }
   ],
   "source": [
    "# 문자열 데이터 처리\n",
    "\n",
    "'''\n",
    "%양식문자\n",
    "%s : 문자열\n",
    "%c : 한개 문자\n",
    "%d : 정수\n",
    "%f : 실수(소수점 표현할 때)\n",
    "%o : 8진수\n",
    "%x : 16진수\n",
    "%% : % 출력\n",
    "'''\n",
    "\n",
    "num1 = 10\n",
    "num2 = 20\n",
    "tot = num1 + num2\n",
    "\n",
    "print(\"10 + 20 = %d\" % tot)\n",
    "print(\"%d + %d = %d\" % (num1, num2, tot))\n",
    "print(\"10 + 20 = {}\".format(tot))\n",
    "print(\"{} + {} = {}\".format(num1, num2, tot))\n",
    "\n",
    "# 인덱스 번호를 사용해서 사용변수의 출력 순서를 정할 수 있다.\n",
    "print(\"{1} + {2} = {0}\".format(tot, num1, num2))"
   ]
  },
  {
   "cell_type": "code",
   "execution_count": 61,
   "metadata": {},
   "outputs": [
    {
     "name": "stdout",
     "output_type": "stream",
     "text": [
      "12323\n",
      "123123213.0\n",
      "125901.0\n"
     ]
    }
   ],
   "source": [
    "'''\n",
    "표준입출력장치 - input 함수\n",
    "'''\n",
    "\n",
    "# 유저의 키보드 입력을 받아서 변수에 저장합니다.\n",
    "num = input(\"첫번째 숫자를 입력해 주세요:\" )\n",
    "\n",
    "# 입력 데이터는 기본적으로 문자열데이터이다.\n",
    "\n",
    "# xxx = num + 8 # 입력받은 숫자는 문자열이기 때문에 정수 8과 덧셈연산이 불가하다.\n",
    "# 데이터 타입은 type 함수로 체크 가능\n",
    "type(num)\n",
    "# str -> int (정수형 변환)\n",
    "\n",
    "num2 = int(input(\"두번째 숫자를 입력해 주세요:\"))\n",
    "print(num2)\n",
    "# str -> float (실수형 변환)\n",
    "num3 = float(input(\"세번째 숫자를 입력해 주세요:\"))\n",
    "print(num3)\n",
    "\n",
    "# 정수형 변환함수를 썼는데, 입력할 때 소수점이 있다면 오류가 난다.\n",
    "# 그래서 데이터를 입력받고 나서 반올림이든 계산이든 다 하고 정수변환도 한다.\n",
    "num4 = input(\"네번째 숫자를 입력해 주세요: \")\n",
    "num5 = float(num4) + 777\n",
    "int(num5)\n",
    "print(num5)"
   ]
  },
  {
   "cell_type": "code",
   "execution_count": 75,
   "metadata": {},
   "outputs": [
    {
     "name": "stdout",
     "output_type": "stream",
     "text": [
      "P\n",
      "N\n",
      "N\n",
      "P\n",
      "pythonprogram\n",
      "python 3.11 program\n",
      "python 3.11 program\n",
      "------------------------------\n",
      "this\n",
      "this\n",
      "this is one line string\n",
      "ti soeln tig\n",
      "tssnletn\n",
      "gnirts enil eno si siht\n"
     ]
    }
   ],
   "source": [
    "'''\n",
    "문자열 특징\n",
    "- 순서(index)를 갖는다.\n",
    "- 문자열 처리 함수 제공\n",
    "'''\n",
    "\n",
    "# 인덱스로 원하는 글자에 접근 가능\n",
    "string = \"PYTHON\"\n",
    "print(string[0])\n",
    "print(string[5])\n",
    "print(string[-1])\n",
    "print(string[-6])\n",
    "\n",
    "# 문자열의 더하기는 + 사용\n",
    "print(\"python\" + \"program\")\n",
    "\n",
    "# 문자열과 숫자의 출력방법 2가지\n",
    "# 1. 콤마를 쓴다.\n",
    "print(\"python\", 3.11, \"program\")\n",
    "# 2. 숫자를 문자열 데이터로 변환하고 쓴다.\n",
    "print(\"python \" + str(3.11) + \" program\")\n",
    "\n",
    "# 문자열에서 곱하기(*) 는 반복연산자\n",
    "print(\"-\"*30)\n",
    "\n",
    "# 문자열의 슬라이싱\n",
    "oneLine = \"this is one line string\"\n",
    "# [] 기호 해석법\n",
    "# [:] 콜론을 중심으로 한쪽편에 아무것도 없으면 그 범위 전체를 의미\n",
    "# [:9] 오른쪽에서 숫자는 그 숫자-1까지 의미\n",
    "print(oneLine[0:4]) # 1~4 문자 [star:end-1] - this\n",
    "print(oneLine[:4]) # [:end-1] : 처음부터~\n",
    "print(oneLine[:]) # 전체 원소 : this is one line string\n",
    "print(oneLine[::2]) # 2의 배수 index: ti soeln tig -> 2칸단위로 첫글자\n",
    "print(oneLine[::3]) # 2의 배수 index: tssnletn -> 3칸단위로 첫글자\n",
    "print(oneLine[::-1]) # 글자 거꾸로 출력된다."
   ]
  },
  {
   "cell_type": "code",
   "execution_count": 79,
   "metadata": {},
   "outputs": [
    {
     "name": "stdout",
     "output_type": "stream",
     "text": [
      "2\n",
      "that is one line string\n",
      "['this is', 'multi line ', 'string', '']\n",
      "['this', 'is', 'one', 'line', 'string']\n"
     ]
    }
   ],
   "source": [
    "# 파이썬 내장함수 복습\n",
    "\n",
    "# 특정 글자 수 세기\n",
    "oneLine = \"this is one line string\"\n",
    "# 알파벳 t 몇개인지 알고싶다면?\n",
    "print(oneLine.count(\"t\"))\n",
    "\n",
    "# 문자열 교체\n",
    "print(oneLine.replace('this', 'that'))\n",
    "\n",
    "# 문자열 분리 (split) 문단을 문장으로\n",
    "oneLine2 = '''this is\n",
    "multi line \n",
    "string\n",
    "'''\n",
    "sent = oneLine2.split('\\n')\n",
    "print(sent)\n",
    "\n",
    "# 문장을 단어로 분리하는 것도 가능하다.\n",
    "oneLine = \"this is one line string\"\n",
    "word = oneLine.split(' ')\n",
    "print(word)"
   ]
  },
  {
   "cell_type": "code",
   "execution_count": 82,
   "metadata": {},
   "outputs": [
    {
     "name": "stdout",
     "output_type": "stream",
     "text": [
      "여기까지 입력하고 \n",
      "지금부터 줄 좀 바꾸자\n",
      "여기까지 입력하고 \t지금부터 탭 한번 들이자\n"
     ]
    }
   ],
   "source": [
    "# 이스케이프 문자\n",
    "'''\n",
    "escape : 탈출하다, 기능 차단(어떤 기능으로 부터 벗어나다.)\n",
    "'''\n",
    "\n",
    "# \\n (줄바꿈), \\t (4칸 띄우기) 정도만 알아도 크게 문제 없음\n",
    "print(\"여기까지 입력하고 \\n지금부터 줄 좀 바꾸자\")\n",
    "print(\"여기까지 입력하고 \\t지금부터 탭 한번 들이자\")"
   ]
  },
  {
   "cell_type": "code",
   "execution_count": null,
   "metadata": {},
   "outputs": [],
   "source": [
    "# 자료구조에 대해 복습\n",
    "\"\"\"\n",
    "자료가 들어있는 데이터셋의 성질에 따라\n",
    "자료열람 (인덱스, 슬라이스)\n",
    "자료의 수정 및 삭제 (차집합 등)\n",
    "데이터 입 출력 방식이 달라지기 때문 (key & value 등)\n",
    "\n",
    "\"\"\""
   ]
  },
  {
   "cell_type": "code",
   "execution_count": null,
   "metadata": {},
   "outputs": [],
   "source": [
    "\"\"\"\n",
    "순서형 자료구조 vs 비순서형 자료구조\n",
    "인덱스 & 슬라이스 가능여부를 가른다.\n",
    "집합 & 딕셔너리 빼고 전부 순서형이긴 하다\n",
    "(다만 집합과 딕셔너리는 많이 다르다.)\n",
    "\n",
    "순서형 자료구조\n",
    "리스트, 튜플\n",
    "\"\"\""
   ]
  },
  {
   "cell_type": "code",
   "execution_count": 88,
   "metadata": {},
   "outputs": [
    {
     "data": {
      "text/plain": [
       "[2, 3]"
      ]
     },
     "execution_count": 88,
     "metadata": {},
     "output_type": "execute_result"
    }
   ],
   "source": [
    "\"\"\"\n",
    "tuple 특징\n",
    "- 순서존재(index 사용 가능)\n",
    "- 수정 불가\n",
    "- 문자열 원소 표현\n",
    "- list 속도 빠름\n",
    "- 제공 함수 없음\n",
    "형식) (원소1, 원소2, ...n) : () 생략\n",
    "\"\"\"\n",
    "\n",
    "# 튜플의 경우, 변수 선언 할 때 괄호 생략 가능\n",
    "t = 10, 20\n",
    "p = 10\n",
    "type(t)\n",
    "# 괄호 생략 시 원소 하나일 때는 주의하자. 정수형 처리되니까\n",
    "type(p)\n",
    "# 인덱스 슬라이스 되는거 확인 가능하다\n",
    "t[1]\n",
    "# 수정 및 삭제불가 (del 함수 이런거 지원안함)\n",
    "# t[1] = 40\n",
    "\n",
    "\"\"\"\n",
    "\n",
    "key & value가 존재하는 딕셔너리 자료구조 빼고\n",
    "자료구조간에 자유로운 변환가능!!!\n",
    "list, tuple, set 명령어로 자유롭게 자료구조 형태를 바꿀 수 있다.\n",
    "딕셔너리 제외하고 원하는 자료구조를 새로운 변수에 설정하여 작업 가능\n",
    "\"\"\"\n",
    "t = (1,2,3)\n",
    "p = list(t)\n",
    "del p[0]\n",
    "p"
   ]
  },
  {
   "cell_type": "code",
   "execution_count": 95,
   "metadata": {},
   "outputs": [
    {
     "name": "stdout",
     "output_type": "stream",
     "text": [
      "5\n",
      "{1, 2, 3, 4, 5}\n",
      "1\n",
      "2\n",
      "3\n",
      "4\n",
      "5\n",
      "{1, 2, 3, 4, 5, 6}\n",
      "{1, 2, 3, 4, 5, 6}\n",
      "{3}\n",
      "{3}\n",
      "{1, 2, 4, 5}\n",
      "{1, 2, 4, 5}\n"
     ]
    }
   ],
   "source": [
    "'''\n",
    "set 특징\n",
    "- 순서 없음, 중복 허용 불가\n",
    "형식) 변수 = {값1, 값2,...}\n",
    "- 집합 개념\n",
    "\n",
    "중복된 데이터 제거할 때, set 명령어로 집합형 자료구조화 시켜서\n",
    "중복 데이터 삭제하고 원복시킨다.\n",
    "원하는 데이터 인덱스, 슬라이스로 접근할 때도 list, tuple 등으로 변환해서 작업\n",
    "'''\n",
    "\n",
    "# 중복불가\n",
    "s = {1, 2, 3, 4, 5, 1}\n",
    "\n",
    "print(len(s))\n",
    "print(s)\n",
    "\n",
    "# for 문은 가능하다\n",
    "for i in s:\n",
    "    print(i)\n",
    "\n",
    "# 집합관련 함수 정리\n",
    "s2 = {3, 6}\n",
    "# 합집합\n",
    "print(s | s2)\n",
    "print(s.union(s2))\n",
    "    \n",
    "# 교집합\n",
    "print(s & s2)\n",
    "print(s.intersection(s2))\n",
    "\n",
    "# 차집합\n",
    "print(s - s2)\n",
    "print(s.difference(s2))"
   ]
  },
  {
   "cell_type": "code",
   "execution_count": 111,
   "metadata": {},
   "outputs": [
    {
     "name": "stdout",
     "output_type": "stream",
     "text": [
      "key2\n",
      "key3\n",
      "key4\n",
      "9999\n",
      "300\n",
      "9999\n",
      "('key2', 9999)\n",
      "('key3', 300)\n",
      "('key4', 9999)\n",
      "key2 9999\n",
      "key3 300\n",
      "key4 9999\n"
     ]
    }
   ],
   "source": [
    "'''\n",
    "dict 특징\n",
    "    - set 자료구조와 유사함\n",
    "    형식) {'key': value, 'key': value, ...}\n",
    "    - json 형식, R의 list 동일\n",
    "    - key 접근만 가능함(index, value 사용 불가)\n",
    "    - key 중복 불가\n",
    "    - 출력 순서 random\n",
    "'''\n",
    "\n",
    "# dict 생성 방법1\n",
    "# 2가지 생성법이 존재한다\n",
    "dic = dict(key1 = 100, key2 = 200, key3= 300)\n",
    "dic = {'key1': 100, 'key2': 200, 'key3': 300}\n",
    "\n",
    "# 데이터의 접근은 key값으로만 가능, 인덱스 사용 key값 이용은 불가\n",
    "\n",
    "dic['key2']\n",
    "\n",
    "# 원소의 추가, 삭제, 수정 알아보기\n",
    "# 원소의 수정\n",
    "dic['key2'] = 9999\n",
    "dic\n",
    "\n",
    "# 원소의 추가 - 기존에 없는 key값 입력하면 따라 붙는다.\n",
    "dic['key4'] = 9999\n",
    "dic\n",
    "\n",
    "# 원소의 삭제\n",
    "del dic['key1']\n",
    "dic\n",
    "\n",
    "# for문 사용 시 내부함수\n",
    "# key값들 접근해서 출력하기\n",
    "for i in dic.keys():\n",
    "    print(i)\n",
    "# value값들 전급해서 출력하기\n",
    "for i in dic.values():\n",
    "    print(i)\n",
    "# key, value값들 접근해서 출력하기\n",
    "for i in dic.items():\n",
    "    print(i)\n",
    "\n",
    "# items에서 key와 value값을 구분해서 출력하려면?\n",
    "# 하나의 키에 복수 데이터가 있는 경우 유효하다.\n",
    "for i,j in dic.items():\n",
    "    print(i, j)"
   ]
  },
  {
   "cell_type": "code",
   "execution_count": 118,
   "metadata": {},
   "outputs": [
    {
     "name": "stdout",
     "output_type": "stream",
     "text": [
      "짝수\n"
     ]
    }
   ],
   "source": [
    "# 반복문 - for, while, if, break, continue\n",
    "\n",
    "# 변수에는 참, 거짓이 존재한다.\n",
    "# 계산을 통해 참, 거짓 조건을 전개하여 반복문의 실행 여부를 통제한다.\n",
    "\n",
    "'''\n",
    "형식1)\n",
    "if 조건식:\n",
    "    실행문1\n",
    "else :\n",
    "    실행문2\n",
    "'''\n",
    "# 사용자에게 1~100 사이 정수를 입력하라고 부탁하여 홀수인지 짝수인지 판단하는법\n",
    "num = int(input('점수 입력(1~100) : '))\n",
    "\n",
    "if num % 2 != 0 :\n",
    "    print('홀수')\n",
    "else :\n",
    "    print('짝수')"
   ]
  },
  {
   "cell_type": "code",
   "execution_count": 119,
   "metadata": {},
   "outputs": [
    {
     "name": "stdout",
     "output_type": "stream",
     "text": [
      "킥보드 타도 돼\n"
     ]
    }
   ],
   "source": [
    "# 복수의 조건이 존재하는 경우 elif를 사용하면 된다.\n",
    "# 주의: 숫자 비교문일 시 if문은 내림차순 순서로 작성해야한다.\n",
    "\n",
    "money = 12000\n",
    "\n",
    "if money >= 20000:\n",
    "    print(\"택시 타도 돼\")\n",
    "elif money >= 10000:\n",
    "    print('킥보드 타도 돼')\n",
    "elif money >= 8000:\n",
    "    print(\"좌석버스 타도 돼\")\n",
    "elif money >= 5000:\n",
    "    print(\"마을버스 타도 돼\")\n",
    "else:\n",
    "    print(\"걸어가자\")"
   ]
  },
  {
   "cell_type": "code",
   "execution_count": 120,
   "metadata": {},
   "outputs": [
    {
     "name": "stdout",
     "output_type": "stream",
     "text": [
      "마을버스 타도 돼\n"
     ]
    }
   ],
   "source": [
    "# 컴퓨터는 코드를 위에서 부터 읽으므로 윗 문장의 조건이 맞으면 그 문장을 무지성으로 실행한다.\n",
    "money = 12000\n",
    "if money >= 5000:\n",
    "    print(\"마을버스 타도 돼\")\n",
    "elif money >= 8000:\n",
    "    print(\"좌석버스 타도 돼\")\n",
    "elif money >= 12000:\n",
    "    print('킥보드 타도 돼')\n",
    "elif money >= 20000:\n",
    "    print(\"택시 타도 돼\")\n",
    "else:\n",
    "    print(\"걸어가자\")"
   ]
  },
  {
   "cell_type": "code",
   "execution_count": 124,
   "metadata": {},
   "outputs": [
    {
     "name": "stdout",
     "output_type": "stream",
     "text": [
      "1 1\n",
      "└--------\n",
      "2 3\n",
      "└--------\n",
      "3 6\n",
      "└--------\n",
      "4 10\n",
      "└--------\n",
      "5 15\n",
      "└--------\n",
      "5 15\n"
     ]
    }
   ],
   "source": [
    "'''\n",
    "반복문(while)\n",
    "for문과 유사하게 데이터에 대해 반복 실행하나,\n",
    "for문은 반복데이터의 길이가 정해진 경우\n",
    "while문은 조건 자체의 참 거짓을 따지므로 데이터의 길이가 가변적일때 쓰인다\n",
    "\n",
    "형식)\n",
    "while 조건식 :\n",
    "    반복문\n",
    "    반복문\n",
    "\n",
    "loop : 반복문 집합\n",
    "'''\n",
    "\n",
    "# 1~5까지 각 수의 합을 더하는 예제 가정\n",
    "# 1. 각 수의 그 합을 더하는 변수를 설정한다.\n",
    "tot = 0\n",
    "idx = 0\n",
    "\n",
    "# 5를 호출할 때까지 반복해서 작업\n",
    "while idx < 5:\n",
    "    idx += 1\n",
    "    # 호출된 수를 전체 합계 변수에 더한다.\n",
    "    tot += idx\n",
    "    # 계산 중간과정 출력\n",
    "    print(idx, tot)\n",
    "    print(\"└--------\")\n",
    "\n",
    "# 최종결과를 출력\n",
    "print(idx, tot)\n"
   ]
  },
  {
   "cell_type": "code",
   "execution_count": 132,
   "metadata": {},
   "outputs": [
    {
     "name": "stdout",
     "output_type": "stream",
     "text": [
      "1683 [3, 6, 9, 12, 15, 18, 21, 24, 27, 30, 33, 36, 39, 42, 45, 48, 51, 54, 57, 60, 63, 66, 69, 72, 75, 78, 81, 84, 87, 90, 93, 96, 99]\n"
     ]
    }
   ],
   "source": [
    "# 1~100까지 3의 배수 합과 원소 추출하기\n",
    "# 원소를 추출하는 방법은 조건맞는 친구를 바로 출력해도 되나\n",
    "# 빈 list 자료구조를 선언하고 조건에 맞는 데이터를 넣어도 된다.\n",
    "\n",
    "cnt = 0\n",
    "tot = 0\n",
    "dataset = []\n",
    "while cnt < 100:\n",
    "    cnt += 1\n",
    "    if cnt % 3 == 0 :\n",
    "        tot += cnt\n",
    "        # 조건맞는 데이터를 리스트에 추가\n",
    "        dataset.append(cnt)\n",
    "print(tot, dataset)"
   ]
  },
  {
   "cell_type": "code",
   "execution_count": 133,
   "metadata": {},
   "outputs": [
    {
     "name": "stdout",
     "output_type": "stream",
     "text": [
      "735 [5, 10, 20, 25, 35, 40, 50, 55, 65, 70, 80, 85, 95, 100]\n"
     ]
    }
   ],
   "source": [
    "# and, or, not 조건 이용해서\n",
    "# 문1) 1~100 사이에서 5의 배수이면서 3의 배수가 아닌 합 계산하기\n",
    "# while문으로 접근해주세요.\n",
    "\n",
    "i = 0\n",
    "tot = 0\n",
    "dataset = []\n",
    "\n",
    "while i < 100:\n",
    "    i += 1\n",
    "    # 5의 배수이면서 3의배수가 아닌경우\n",
    "    if ( i % 5 == 0 ) and ( not i % 3 == 0) :\n",
    "        tot += i\n",
    "        dataset.append(i)\n",
    "\n",
    "print(tot, dataset)"
   ]
  },
  {
   "cell_type": "code",
   "execution_count": 135,
   "metadata": {},
   "outputs": [
    {
     "name": "stdout",
     "output_type": "stream",
     "text": [
      "1 2 4 5 "
     ]
    }
   ],
   "source": [
    "# continue & break 차이점\n",
    "'''\n",
    "continue, break\n",
    "- continue : 계속 반복, 다음 문장 skip\n",
    "- break : 탈출(exit)\n",
    "'''\n",
    "\n",
    "# 1~10 사이 정수에서 3과 6을 건너뛰고 나머지 출력\n",
    "# break의 잘못된 사용으로 인한 의도하지 못한 예시\n",
    "# 잘못된 예시\n",
    "i = 0\n",
    "while i < 10:\n",
    "    i += 1 # 카운터\n",
    "    if i == 3:\n",
    "        continue # 1 2 4 5 6 7 8 9 10 -> 다음 문장 skip\n",
    "    if i == 6 : # 2차 작성\n",
    "        break # 1 2 3 4 5 -> exit\n",
    "    print(i, end=' ')"
   ]
  },
  {
   "cell_type": "code",
   "execution_count": 146,
   "metadata": {},
   "outputs": [
    {
     "name": "stdout",
     "output_type": "stream",
     "text": [
      "key1\n",
      "key2\n",
      "key3\n",
      "100\n",
      "200\n",
      "300\n",
      "밤-\n",
      "양-\n",
      "갱-\n",
      " -\n",
      "비-\n",
      "비-\n",
      " -\n",
      "1-\n",
      "등-\n"
     ]
    }
   ],
   "source": [
    "\"\"\"\n",
    "반복문(for)\n",
    "\n",
    "형식)\n",
    "for 변수 in 열거형data :\n",
    "    실행문\n",
    "    실행문\n",
    "for문에서 사용 데이터는 자유로운 편이다.\n",
    "문자열데이터, 리스트, 튜플, 집합데이터 내부 데이터 모두 지원한다.\n",
    "딕셔너리 데이터도 key와 value에 대한 정확한 인덱싱이 이루어진다면\n",
    "for문 사용에 문제없음\n",
    "\"\"\"\n",
    "\n",
    "dic = {'key1' : 100, 'key2' : 200, 'key3' : 300}\n",
    "for i in dic.keys():\n",
    "    print(i)\n",
    "for i in dic.values():\n",
    "    print(i)\n",
    "\n",
    "\n",
    "문자열데이터 = \"밤양갱 비비 1등\"\n",
    "for i in 문자열데이터:\n",
    "    print(i+\"-\")"
   ]
  },
  {
   "cell_type": "code",
   "execution_count": 153,
   "metadata": {},
   "outputs": [
    {
     "name": "stdout",
     "output_type": "stream",
     "text": [
      "80%\n"
     ]
    }
   ],
   "source": [
    "# 데이터 정합성 분석\n",
    "# 예측된 데이터와 실제 데이터를 하나씩 비교하여 정확도 %를 계산하여 보여주기\n",
    "\n",
    "y = [1, 0, 2, 1, 0] # 정답\n",
    "y_pred = [1, 0, 2, 0, 0] # 예측지\n",
    "\n",
    "# 1. 개별 원소들끼리 비교해서 결과가 같은지 확인 - 같으면 1점 아니면 0점\n",
    "# 2. 개별 점수의 총 합을 구한다 -> 5개 데이터 중 일치하는 데이터 몇개?\n",
    "# 3. 전체 데이터 길이로 나누면 그게 정확도 % -> (점수의 합) / (데이터 개수)\n",
    "\n",
    "size = len(y)\n",
    "# 정확도 점수 젖아하는 변수 선언\n",
    "acc = 0\n",
    "# range안의 숫자를 변수처리하여 개발자답게 ^^\n",
    "for i in range(size):\n",
    "    # 각 데이터 마다 예측치와 실제 결과가 같은 경우, 1을 더한다\n",
    "    if y[i] == y_pred[i]:\n",
    "        acc += 1\n",
    "\n",
    "# 일치하는 데이터 개수를 데이터 총 개수로 나눠서 % 계산 완료~\n",
    "print(str(int(acc / len(y) * 100)) + \"%\")"
   ]
  },
  {
   "cell_type": "code",
   "execution_count": null,
   "metadata": {},
   "outputs": [],
   "source": []
  },
  {
   "cell_type": "code",
   "execution_count": null,
   "metadata": {},
   "outputs": [],
   "source": []
  },
  {
   "cell_type": "code",
   "execution_count": null,
   "metadata": {},
   "outputs": [],
   "source": []
  },
  {
   "cell_type": "code",
   "execution_count": null,
   "metadata": {},
   "outputs": [],
   "source": []
  },
  {
   "cell_type": "code",
   "execution_count": null,
   "metadata": {},
   "outputs": [],
   "source": []
  }
 ],
 "metadata": {
  "kernelspec": {
   "display_name": "Python 3",
   "language": "python",
   "name": "python3"
  },
  "language_info": {
   "codemirror_mode": {
    "name": "ipython",
    "version": 3
   },
   "file_extension": ".py",
   "mimetype": "text/x-python",
   "name": "python",
   "nbconvert_exporter": "python",
   "pygments_lexer": "ipython3",
   "version": "3.12.0"
  }
 },
 "nbformat": 4,
 "nbformat_minor": 2
}

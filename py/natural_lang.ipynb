{
 "cells": [
  {
   "cell_type": "code",
   "execution_count": 1,
   "metadata": {},
   "outputs": [
    {
     "name": "stdout",
     "output_type": "stream",
     "text": [
      "파이썬 Noun\n",
      "파이썬 Noun\n",
      "파이썬 Noun\n",
      "안녕하세요 Adjective\n",
      "입니다 Adjective\n",
      "있습니다 Adjective\n",
      "재미있습니다 Adjective\n",
      "안녕하세요 Adjective\n",
      "파이썬 Noun\n",
      "입니다 Adjective\n",
      "파이썬 Noun\n",
      "있습니다 Adjective\n",
      "파이썬 Noun\n",
      "재미있습니다 Adjective\n"
     ]
    }
   ],
   "source": [
    "from konlpy.tag import Okt\n",
    "\n",
    "okt = Okt()\n",
    "\n",
    "text = \"안녕하세요 파이썬 입니다. 파이썬을 배우고 있습니다. 파이썬은 재미있습니다.\"\n",
    "\n",
    "# 명사만 출력하기 \n",
    "for word, tag in okt.pos(text):\n",
    "    if tag in 'Noun':\n",
    "        print(word, tag)\n",
    "\n",
    "# 형용사만 출력하기 \n",
    "for word, tag in okt.pos(text):\n",
    "    if tag in 'Adjective':\n",
    "        print(word, tag)\n",
    "\n",
    "# 명사, 형용사 출력하기\n",
    "# text 안의 문장을 한 단어씩 꺼내서 분석하겠습니다.\n",
    "for word, tag in okt.pos(text):\n",
    "    # 해당 단어가 키워드로 셀만한 명사 혹은 형용사가 맞다면\n",
    "    if tag in ['Noun', 'Adjective']:\n",
    "        # 출력해 주세요\n",
    "        print(word, tag)"
   ]
  },
  {
   "cell_type": "code",
   "execution_count": null,
   "metadata": {},
   "outputs": [],
   "source": []
  }
 ],
 "metadata": {
  "kernelspec": {
   "display_name": "Python 3",
   "language": "python",
   "name": "python3"
  },
  "language_info": {
   "codemirror_mode": {
    "name": "ipython",
    "version": 3
   },
   "file_extension": ".py",
   "mimetype": "text/x-python",
   "name": "python",
   "nbconvert_exporter": "python",
   "pygments_lexer": "ipython3",
   "version": "3.12.3"
  }
 },
 "nbformat": 4,
 "nbformat_minor": 2
}
